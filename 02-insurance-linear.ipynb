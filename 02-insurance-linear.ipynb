{
 "cells": [
  {
   "cell_type": "markdown",
   "metadata": {
    "_cell_guid": "b1076dfc-b9ad-4769-8c92-a6c4dae69d19",
    "_uuid": "8f2839f25d086af736a60e9eeb907d3b93b6e0e5",
    "id": "uDORKto92eFL"
   },
   "source": [
    "# Insurance cost prediction using linear regression\n",
    "\n",
    "Make a submisson here: https://jovian.ai/learn/deep-learning-with-pytorch-zero-to-gans/assignment/assignment-2-train-your-first-model\n",
    "\n",
    "In this assignment we're going to use information like a person's age, sex, BMI, no. of children and smoking habit to predict the price of yearly medical bills. This kind of model is useful for insurance companies to determine the yearly insurance premium for a person. The dataset for this problem is taken from [Kaggle](https://www.kaggle.com/mirichoi0218/insurance).\n",
    "\n",
    "\n",
    "We will create a model with the following steps:\n",
    "1. Download and explore the dataset\n",
    "2. Prepare the dataset for training\n",
    "3. Create a linear regression model\n",
    "4. Train the model to fit the data\n",
    "5. Make predictions using the trained model\n",
    "\n",
    "\n",
    "This assignment builds upon the concepts from the first 2 lessons. It will help to review these Jupyter notebooks:\n",
    "- PyTorch basics: https://jovian.ai/aakashns/01-pytorch-basics\n",
    "- Linear Regression: https://jovian.ai/aakashns/02-linear-regression\n",
    "- Logistic Regression: https://jovian.ai/aakashns/03-logistic-regression\n",
    "- Linear regression (minimal): https://jovian.ai/aakashns/housing-linear-minimal\n",
    "- Logistic regression (minimal): https://jovian.ai/aakashns/mnist-logistic-minimal\n",
    "\n",
    "As you go through this notebook, you will find a **???** in certain places. Your job is to replace the **???** with appropriate code or values, to ensure that the notebook runs properly end-to-end . In some cases, you'll be required to choose some hyperparameters (learning rate, batch size etc.). Try to experiment with the hypeparameters to get the lowest loss.\n"
   ]
  },
  {
   "cell_type": "code",
   "execution_count": 4,
   "metadata": {
    "executionInfo": {
     "elapsed": 8694,
     "status": "ok",
     "timestamp": 1681085933450,
     "user": {
      "displayName": "Mirnaz Ali",
      "userId": "08466191610827258170"
     },
     "user_tz": -300
    },
    "id": "1t8ee1Zi2eFT"
   },
   "outputs": [],
   "source": [
    "import torch\n",
    "import torchvision\n",
    "import torch.nn as nn\n",
    "import pandas as pd\n",
    "import matplotlib.pyplot as plt\n",
    "import seaborn as sns\n",
    "import torch.nn.functional as F\n",
    "from torchvision.datasets.utils import download_url\n",
    "from torch.utils.data import DataLoader, TensorDataset, random_split"
   ]
  },
  {
   "cell_type": "code",
   "execution_count": 5,
   "metadata": {
    "executionInfo": {
     "elapsed": 48,
     "status": "ok",
     "timestamp": 1681085933450,
     "user": {
      "displayName": "Mirnaz Ali",
      "userId": "08466191610827258170"
     },
     "user_tz": -300
    },
    "id": "68F1DNuu2eFU"
   },
   "outputs": [],
   "source": [
    "project_name='02-insurance-linear-regression-fin' # will be used by jovian.commit"
   ]
  },
  {
   "cell_type": "markdown",
   "metadata": {
    "id": "mftfCqSg2eFU"
   },
   "source": [
    "## Step 1: Download and explore the data\n",
    "\n",
    "Let us begin by downloading the data. We'll use the `download_url` function from PyTorch to get the data as a CSV (comma-separated values) file. "
   ]
  },
  {
   "cell_type": "code",
   "execution_count": 3,
   "metadata": {
    "_cell_guid": "79c7e3d0-c299-4dcb-8224-4455121ee9b0",
    "_uuid": "d629ff2d2480ee46fbb7e2d37f6b5fab8052498a",
    "colab": {
     "base_uri": "https://localhost:8080/"
    },
    "executionInfo": {
     "elapsed": 49,
     "status": "ok",
     "timestamp": 1681085933451,
     "user": {
      "displayName": "Mirnaz Ali",
      "userId": "08466191610827258170"
     },
     "user_tz": -300
    },
    "id": "evAb2cOz2eFV",
    "outputId": "f8037892-d369-430c-82d4-100eb5e493e1"
   },
   "outputs": [
    {
     "name": "stdout",
     "output_type": "stream",
     "text": [
      "Downloading https://gist.githubusercontent.com/BirajCoder/5f068dfe759c1ea6bdfce9535acdb72d/raw/c84d84e3c80f93be67f6c069cbdc0195ec36acbd/insurance.csv to ./insurance.csv\n"
     ]
    },
    {
     "name": "stderr",
     "output_type": "stream",
     "text": [
      "100%|██████████| 54288/54288 [00:00<00:00, 48292762.58it/s]\n"
     ]
    }
   ],
   "source": [
    "DATASET_URL = \"https://gist.github.com/BirajCoder/5f068dfe759c1ea6bdfce9535acdb72d/raw/c84d84e3c80f93be67f6c069cbdc0195ec36acbd/insurance.csv\"\n",
    "DATA_FILENAME = \"insurance.csv\"\n",
    "download_url(DATASET_URL, '.')"
   ]
  },
  {
   "cell_type": "markdown",
   "metadata": {
    "id": "fa-F-MEh2eFW"
   },
   "source": [
    "To load the dataset into memory, we'll use the `read_csv` function from the `pandas` library. The data will be loaded as a Pandas dataframe. See this short tutorial to learn more: https://data36.com/pandas-tutorial-1-basics-reading-data-files-dataframes-data-selection/"
   ]
  },
  {
   "cell_type": "code",
   "execution_count": 4,
   "metadata": {
    "colab": {
     "base_uri": "https://localhost:8080/",
     "height": 206
    },
    "executionInfo": {
     "elapsed": 46,
     "status": "ok",
     "timestamp": 1681085933451,
     "user": {
      "displayName": "Mirnaz Ali",
      "userId": "08466191610827258170"
     },
     "user_tz": -300
    },
    "id": "qHQGaYtb2eFW",
    "outputId": "e2de0e43-b560-4efc-ee82-eabadfb43138"
   },
   "outputs": [
    {
     "data": {
      "text/html": [
       "\n",
       "  <div id=\"df-448a5f36-eebc-4353-bad4-915af6783bc6\">\n",
       "    <div class=\"colab-df-container\">\n",
       "      <div>\n",
       "<style scoped>\n",
       "    .dataframe tbody tr th:only-of-type {\n",
       "        vertical-align: middle;\n",
       "    }\n",
       "\n",
       "    .dataframe tbody tr th {\n",
       "        vertical-align: top;\n",
       "    }\n",
       "\n",
       "    .dataframe thead th {\n",
       "        text-align: right;\n",
       "    }\n",
       "</style>\n",
       "<table border=\"1\" class=\"dataframe\">\n",
       "  <thead>\n",
       "    <tr style=\"text-align: right;\">\n",
       "      <th></th>\n",
       "      <th>age</th>\n",
       "      <th>sex</th>\n",
       "      <th>bmi</th>\n",
       "      <th>children</th>\n",
       "      <th>smoker</th>\n",
       "      <th>region</th>\n",
       "      <th>charges</th>\n",
       "    </tr>\n",
       "  </thead>\n",
       "  <tbody>\n",
       "    <tr>\n",
       "      <th>0</th>\n",
       "      <td>19</td>\n",
       "      <td>female</td>\n",
       "      <td>27.900</td>\n",
       "      <td>0</td>\n",
       "      <td>yes</td>\n",
       "      <td>southwest</td>\n",
       "      <td>16884.92400</td>\n",
       "    </tr>\n",
       "    <tr>\n",
       "      <th>1</th>\n",
       "      <td>18</td>\n",
       "      <td>male</td>\n",
       "      <td>33.770</td>\n",
       "      <td>1</td>\n",
       "      <td>no</td>\n",
       "      <td>southeast</td>\n",
       "      <td>1725.55230</td>\n",
       "    </tr>\n",
       "    <tr>\n",
       "      <th>2</th>\n",
       "      <td>28</td>\n",
       "      <td>male</td>\n",
       "      <td>33.000</td>\n",
       "      <td>3</td>\n",
       "      <td>no</td>\n",
       "      <td>southeast</td>\n",
       "      <td>4449.46200</td>\n",
       "    </tr>\n",
       "    <tr>\n",
       "      <th>3</th>\n",
       "      <td>33</td>\n",
       "      <td>male</td>\n",
       "      <td>22.705</td>\n",
       "      <td>0</td>\n",
       "      <td>no</td>\n",
       "      <td>northwest</td>\n",
       "      <td>21984.47061</td>\n",
       "    </tr>\n",
       "    <tr>\n",
       "      <th>4</th>\n",
       "      <td>32</td>\n",
       "      <td>male</td>\n",
       "      <td>28.880</td>\n",
       "      <td>0</td>\n",
       "      <td>no</td>\n",
       "      <td>northwest</td>\n",
       "      <td>3866.85520</td>\n",
       "    </tr>\n",
       "  </tbody>\n",
       "</table>\n",
       "</div>\n",
       "      <button class=\"colab-df-convert\" onclick=\"convertToInteractive('df-448a5f36-eebc-4353-bad4-915af6783bc6')\"\n",
       "              title=\"Convert this dataframe to an interactive table.\"\n",
       "              style=\"display:none;\">\n",
       "        \n",
       "  <svg xmlns=\"http://www.w3.org/2000/svg\" height=\"24px\"viewBox=\"0 0 24 24\"\n",
       "       width=\"24px\">\n",
       "    <path d=\"M0 0h24v24H0V0z\" fill=\"none\"/>\n",
       "    <path d=\"M18.56 5.44l.94 2.06.94-2.06 2.06-.94-2.06-.94-.94-2.06-.94 2.06-2.06.94zm-11 1L8.5 8.5l.94-2.06 2.06-.94-2.06-.94L8.5 2.5l-.94 2.06-2.06.94zm10 10l.94 2.06.94-2.06 2.06-.94-2.06-.94-.94-2.06-.94 2.06-2.06.94z\"/><path d=\"M17.41 7.96l-1.37-1.37c-.4-.4-.92-.59-1.43-.59-.52 0-1.04.2-1.43.59L10.3 9.45l-7.72 7.72c-.78.78-.78 2.05 0 2.83L4 21.41c.39.39.9.59 1.41.59.51 0 1.02-.2 1.41-.59l7.78-7.78 2.81-2.81c.8-.78.8-2.07 0-2.86zM5.41 20L4 18.59l7.72-7.72 1.47 1.35L5.41 20z\"/>\n",
       "  </svg>\n",
       "      </button>\n",
       "      \n",
       "  <style>\n",
       "    .colab-df-container {\n",
       "      display:flex;\n",
       "      flex-wrap:wrap;\n",
       "      gap: 12px;\n",
       "    }\n",
       "\n",
       "    .colab-df-convert {\n",
       "      background-color: #E8F0FE;\n",
       "      border: none;\n",
       "      border-radius: 50%;\n",
       "      cursor: pointer;\n",
       "      display: none;\n",
       "      fill: #1967D2;\n",
       "      height: 32px;\n",
       "      padding: 0 0 0 0;\n",
       "      width: 32px;\n",
       "    }\n",
       "\n",
       "    .colab-df-convert:hover {\n",
       "      background-color: #E2EBFA;\n",
       "      box-shadow: 0px 1px 2px rgba(60, 64, 67, 0.3), 0px 1px 3px 1px rgba(60, 64, 67, 0.15);\n",
       "      fill: #174EA6;\n",
       "    }\n",
       "\n",
       "    [theme=dark] .colab-df-convert {\n",
       "      background-color: #3B4455;\n",
       "      fill: #D2E3FC;\n",
       "    }\n",
       "\n",
       "    [theme=dark] .colab-df-convert:hover {\n",
       "      background-color: #434B5C;\n",
       "      box-shadow: 0px 1px 3px 1px rgba(0, 0, 0, 0.15);\n",
       "      filter: drop-shadow(0px 1px 2px rgba(0, 0, 0, 0.3));\n",
       "      fill: #FFFFFF;\n",
       "    }\n",
       "  </style>\n",
       "\n",
       "      <script>\n",
       "        const buttonEl =\n",
       "          document.querySelector('#df-448a5f36-eebc-4353-bad4-915af6783bc6 button.colab-df-convert');\n",
       "        buttonEl.style.display =\n",
       "          google.colab.kernel.accessAllowed ? 'block' : 'none';\n",
       "\n",
       "        async function convertToInteractive(key) {\n",
       "          const element = document.querySelector('#df-448a5f36-eebc-4353-bad4-915af6783bc6');\n",
       "          const dataTable =\n",
       "            await google.colab.kernel.invokeFunction('convertToInteractive',\n",
       "                                                     [key], {});\n",
       "          if (!dataTable) return;\n",
       "\n",
       "          const docLinkHtml = 'Like what you see? Visit the ' +\n",
       "            '<a target=\"_blank\" href=https://colab.research.google.com/notebooks/data_table.ipynb>data table notebook</a>'\n",
       "            + ' to learn more about interactive tables.';\n",
       "          element.innerHTML = '';\n",
       "          dataTable['output_type'] = 'display_data';\n",
       "          await google.colab.output.renderOutput(dataTable, element);\n",
       "          const docLink = document.createElement('div');\n",
       "          docLink.innerHTML = docLinkHtml;\n",
       "          element.appendChild(docLink);\n",
       "        }\n",
       "      </script>\n",
       "    </div>\n",
       "  </div>\n",
       "  "
      ],
      "text/plain": [
       "   age     sex     bmi  children smoker     region      charges\n",
       "0   19  female  27.900         0    yes  southwest  16884.92400\n",
       "1   18    male  33.770         1     no  southeast   1725.55230\n",
       "2   28    male  33.000         3     no  southeast   4449.46200\n",
       "3   33    male  22.705         0     no  northwest  21984.47061\n",
       "4   32    male  28.880         0     no  northwest   3866.85520"
      ]
     },
     "execution_count": 4,
     "metadata": {},
     "output_type": "execute_result"
    }
   ],
   "source": [
    "dataframe_raw = pd.read_csv(DATA_FILENAME)\n",
    "dataframe_raw.head()"
   ]
  },
  {
   "cell_type": "markdown",
   "metadata": {
    "id": "RoSb9mvg2eFX"
   },
   "source": [
    "We're going to do a slight customization of the data, so that you every participant receives a slightly different version of the dataset. Fill in your name below as a string (enter at least 5 characters)"
   ]
  },
  {
   "cell_type": "code",
   "execution_count": 5,
   "metadata": {
    "executionInfo": {
     "elapsed": 45,
     "status": "ok",
     "timestamp": 1681085933452,
     "user": {
      "displayName": "Mirnaz Ali",
      "userId": "08466191610827258170"
     },
     "user_tz": -300
    },
    "id": "zYW29Q2Z2eFY"
   },
   "outputs": [],
   "source": [
    "your_name = 'Mirnaz Ali' # at least 5 characters"
   ]
  },
  {
   "cell_type": "markdown",
   "metadata": {
    "id": "KYkwLDCX2eFY"
   },
   "source": [
    "The `customize_dataset` function will customize the dataset slightly using your name as a source of random numbers."
   ]
  },
  {
   "cell_type": "code",
   "execution_count": 6,
   "metadata": {
    "executionInfo": {
     "elapsed": 45,
     "status": "ok",
     "timestamp": 1681085933452,
     "user": {
      "displayName": "Mirnaz Ali",
      "userId": "08466191610827258170"
     },
     "user_tz": -300
    },
    "id": "ECznV70v2eFY"
   },
   "outputs": [],
   "source": [
    "def customize_dataset(dataframe_raw, rand_str):\n",
    "    dataframe = dataframe_raw.copy(deep=True)\n",
    "    # drop some rows\n",
    "    dataframe = dataframe.sample(int(0.95*len(dataframe)), random_state=int(ord(rand_str[0])))\n",
    "    # scale input\n",
    "    dataframe.bmi = dataframe.bmi * ord(rand_str[1])/100.\n",
    "    # scale target\n",
    "    dataframe.charges = dataframe.charges * ord(rand_str[2])/100.\n",
    "    # drop column\n",
    "    if ord(rand_str[3]) % 2 == 1:\n",
    "        dataframe = dataframe.drop(['region'], axis=1)\n",
    "    return dataframe"
   ]
  },
  {
   "cell_type": "code",
   "execution_count": 7,
   "metadata": {
    "colab": {
     "base_uri": "https://localhost:8080/",
     "height": 206
    },
    "executionInfo": {
     "elapsed": 46,
     "status": "ok",
     "timestamp": 1681085933453,
     "user": {
      "displayName": "Mirnaz Ali",
      "userId": "08466191610827258170"
     },
     "user_tz": -300
    },
    "id": "4jJWqiKu2eFZ",
    "outputId": "26d410de-f680-4f14-c7f4-7f69d27166dd"
   },
   "outputs": [
    {
     "data": {
      "text/html": [
       "\n",
       "  <div id=\"df-43e472a7-54e4-4150-909e-26cc811751b5\">\n",
       "    <div class=\"colab-df-container\">\n",
       "      <div>\n",
       "<style scoped>\n",
       "    .dataframe tbody tr th:only-of-type {\n",
       "        vertical-align: middle;\n",
       "    }\n",
       "\n",
       "    .dataframe tbody tr th {\n",
       "        vertical-align: top;\n",
       "    }\n",
       "\n",
       "    .dataframe thead th {\n",
       "        text-align: right;\n",
       "    }\n",
       "</style>\n",
       "<table border=\"1\" class=\"dataframe\">\n",
       "  <thead>\n",
       "    <tr style=\"text-align: right;\">\n",
       "      <th></th>\n",
       "      <th>age</th>\n",
       "      <th>sex</th>\n",
       "      <th>bmi</th>\n",
       "      <th>children</th>\n",
       "      <th>smoker</th>\n",
       "      <th>region</th>\n",
       "      <th>charges</th>\n",
       "    </tr>\n",
       "  </thead>\n",
       "  <tbody>\n",
       "    <tr>\n",
       "      <th>27</th>\n",
       "      <td>55</td>\n",
       "      <td>female</td>\n",
       "      <td>34.41375</td>\n",
       "      <td>2</td>\n",
       "      <td>no</td>\n",
       "      <td>northwest</td>\n",
       "      <td>13986.240765</td>\n",
       "    </tr>\n",
       "    <tr>\n",
       "      <th>38</th>\n",
       "      <td>35</td>\n",
       "      <td>male</td>\n",
       "      <td>38.50350</td>\n",
       "      <td>1</td>\n",
       "      <td>yes</td>\n",
       "      <td>northeast</td>\n",
       "      <td>45342.674982</td>\n",
       "    </tr>\n",
       "    <tr>\n",
       "      <th>441</th>\n",
       "      <td>33</td>\n",
       "      <td>female</td>\n",
       "      <td>35.17500</td>\n",
       "      <td>0</td>\n",
       "      <td>yes</td>\n",
       "      <td>southwest</td>\n",
       "      <td>42270.484080</td>\n",
       "    </tr>\n",
       "    <tr>\n",
       "      <th>1068</th>\n",
       "      <td>63</td>\n",
       "      <td>male</td>\n",
       "      <td>22.74300</td>\n",
       "      <td>1</td>\n",
       "      <td>no</td>\n",
       "      <td>northwest</td>\n",
       "      <td>16358.834016</td>\n",
       "    </tr>\n",
       "    <tr>\n",
       "      <th>1310</th>\n",
       "      <td>42</td>\n",
       "      <td>male</td>\n",
       "      <td>27.63075</td>\n",
       "      <td>1</td>\n",
       "      <td>no</td>\n",
       "      <td>northwest</td>\n",
       "      <td>7912.637229</td>\n",
       "    </tr>\n",
       "  </tbody>\n",
       "</table>\n",
       "</div>\n",
       "      <button class=\"colab-df-convert\" onclick=\"convertToInteractive('df-43e472a7-54e4-4150-909e-26cc811751b5')\"\n",
       "              title=\"Convert this dataframe to an interactive table.\"\n",
       "              style=\"display:none;\">\n",
       "        \n",
       "  <svg xmlns=\"http://www.w3.org/2000/svg\" height=\"24px\"viewBox=\"0 0 24 24\"\n",
       "       width=\"24px\">\n",
       "    <path d=\"M0 0h24v24H0V0z\" fill=\"none\"/>\n",
       "    <path d=\"M18.56 5.44l.94 2.06.94-2.06 2.06-.94-2.06-.94-.94-2.06-.94 2.06-2.06.94zm-11 1L8.5 8.5l.94-2.06 2.06-.94-2.06-.94L8.5 2.5l-.94 2.06-2.06.94zm10 10l.94 2.06.94-2.06 2.06-.94-2.06-.94-.94-2.06-.94 2.06-2.06.94z\"/><path d=\"M17.41 7.96l-1.37-1.37c-.4-.4-.92-.59-1.43-.59-.52 0-1.04.2-1.43.59L10.3 9.45l-7.72 7.72c-.78.78-.78 2.05 0 2.83L4 21.41c.39.39.9.59 1.41.59.51 0 1.02-.2 1.41-.59l7.78-7.78 2.81-2.81c.8-.78.8-2.07 0-2.86zM5.41 20L4 18.59l7.72-7.72 1.47 1.35L5.41 20z\"/>\n",
       "  </svg>\n",
       "      </button>\n",
       "      \n",
       "  <style>\n",
       "    .colab-df-container {\n",
       "      display:flex;\n",
       "      flex-wrap:wrap;\n",
       "      gap: 12px;\n",
       "    }\n",
       "\n",
       "    .colab-df-convert {\n",
       "      background-color: #E8F0FE;\n",
       "      border: none;\n",
       "      border-radius: 50%;\n",
       "      cursor: pointer;\n",
       "      display: none;\n",
       "      fill: #1967D2;\n",
       "      height: 32px;\n",
       "      padding: 0 0 0 0;\n",
       "      width: 32px;\n",
       "    }\n",
       "\n",
       "    .colab-df-convert:hover {\n",
       "      background-color: #E2EBFA;\n",
       "      box-shadow: 0px 1px 2px rgba(60, 64, 67, 0.3), 0px 1px 3px 1px rgba(60, 64, 67, 0.15);\n",
       "      fill: #174EA6;\n",
       "    }\n",
       "\n",
       "    [theme=dark] .colab-df-convert {\n",
       "      background-color: #3B4455;\n",
       "      fill: #D2E3FC;\n",
       "    }\n",
       "\n",
       "    [theme=dark] .colab-df-convert:hover {\n",
       "      background-color: #434B5C;\n",
       "      box-shadow: 0px 1px 3px 1px rgba(0, 0, 0, 0.15);\n",
       "      filter: drop-shadow(0px 1px 2px rgba(0, 0, 0, 0.3));\n",
       "      fill: #FFFFFF;\n",
       "    }\n",
       "  </style>\n",
       "\n",
       "      <script>\n",
       "        const buttonEl =\n",
       "          document.querySelector('#df-43e472a7-54e4-4150-909e-26cc811751b5 button.colab-df-convert');\n",
       "        buttonEl.style.display =\n",
       "          google.colab.kernel.accessAllowed ? 'block' : 'none';\n",
       "\n",
       "        async function convertToInteractive(key) {\n",
       "          const element = document.querySelector('#df-43e472a7-54e4-4150-909e-26cc811751b5');\n",
       "          const dataTable =\n",
       "            await google.colab.kernel.invokeFunction('convertToInteractive',\n",
       "                                                     [key], {});\n",
       "          if (!dataTable) return;\n",
       "\n",
       "          const docLinkHtml = 'Like what you see? Visit the ' +\n",
       "            '<a target=\"_blank\" href=https://colab.research.google.com/notebooks/data_table.ipynb>data table notebook</a>'\n",
       "            + ' to learn more about interactive tables.';\n",
       "          element.innerHTML = '';\n",
       "          dataTable['output_type'] = 'display_data';\n",
       "          await google.colab.output.renderOutput(dataTable, element);\n",
       "          const docLink = document.createElement('div');\n",
       "          docLink.innerHTML = docLinkHtml;\n",
       "          element.appendChild(docLink);\n",
       "        }\n",
       "      </script>\n",
       "    </div>\n",
       "  </div>\n",
       "  "
      ],
      "text/plain": [
       "      age     sex       bmi  children smoker     region       charges\n",
       "27     55  female  34.41375         2     no  northwest  13986.240765\n",
       "38     35    male  38.50350         1    yes  northeast  45342.674982\n",
       "441    33  female  35.17500         0    yes  southwest  42270.484080\n",
       "1068   63    male  22.74300         1     no  northwest  16358.834016\n",
       "1310   42    male  27.63075         1     no  northwest   7912.637229"
      ]
     },
     "execution_count": 7,
     "metadata": {},
     "output_type": "execute_result"
    }
   ],
   "source": [
    "dataframe = customize_dataset(dataframe_raw, your_name)\n",
    "dataframe.head()"
   ]
  },
  {
   "cell_type": "markdown",
   "metadata": {
    "id": "vwHs_4As2eFZ"
   },
   "source": [
    "Let us answer some basic questions about the dataset. \n",
    "\n",
    "\n",
    "**Q1: How many rows does the dataset have?**"
   ]
  },
  {
   "cell_type": "code",
   "execution_count": 8,
   "metadata": {
    "colab": {
     "base_uri": "https://localhost:8080/"
    },
    "executionInfo": {
     "elapsed": 45,
     "status": "ok",
     "timestamp": 1681085933453,
     "user": {
      "displayName": "Mirnaz Ali",
      "userId": "08466191610827258170"
     },
     "user_tz": -300
    },
    "id": "dOyn_4Zt2eFZ",
    "outputId": "d8b5721f-168c-4d37-fda0-348dc958f4b0"
   },
   "outputs": [
    {
     "name": "stdout",
     "output_type": "stream",
     "text": [
      "1271\n"
     ]
    }
   ],
   "source": [
    "num_rows = len(dataframe)\n",
    "print(num_rows)"
   ]
  },
  {
   "cell_type": "markdown",
   "metadata": {
    "id": "eH5QsvWp2eFa"
   },
   "source": [
    "**Q2: How many columns does the dataset have**"
   ]
  },
  {
   "cell_type": "code",
   "execution_count": 9,
   "metadata": {
    "colab": {
     "base_uri": "https://localhost:8080/"
    },
    "executionInfo": {
     "elapsed": 41,
     "status": "ok",
     "timestamp": 1681085933454,
     "user": {
      "displayName": "Mirnaz Ali",
      "userId": "08466191610827258170"
     },
     "user_tz": -300
    },
    "id": "G-2NiLeU2eFa",
    "outputId": "2f33042c-ec4c-45c0-a3f0-814f83342759"
   },
   "outputs": [
    {
     "name": "stdout",
     "output_type": "stream",
     "text": [
      "7\n"
     ]
    }
   ],
   "source": [
    "num_cols = dataframe.shape[1]\n",
    "print(num_cols)"
   ]
  },
  {
   "cell_type": "markdown",
   "metadata": {
    "id": "YWRQRxqk2eFa"
   },
   "source": [
    "**Q3: What are the column titles of the input variables?**"
   ]
  },
  {
   "cell_type": "code",
   "execution_count": 10,
   "metadata": {
    "colab": {
     "base_uri": "https://localhost:8080/"
    },
    "executionInfo": {
     "elapsed": 37,
     "status": "ok",
     "timestamp": 1681085933454,
     "user": {
      "displayName": "Mirnaz Ali",
      "userId": "08466191610827258170"
     },
     "user_tz": -300
    },
    "id": "tM1YhRm62eFb",
    "outputId": "45cdc907-78a9-4521-a15d-33cf46508252"
   },
   "outputs": [
    {
     "name": "stdout",
     "output_type": "stream",
     "text": [
      "['age', 'sex', 'bmi', 'children', 'smoker', 'region']\n"
     ]
    }
   ],
   "source": [
    "input_cols = [titles for titles in dataframe.loc[:, dataframe.columns != 'charges']]\n",
    "print(input_cols)"
   ]
  },
  {
   "cell_type": "markdown",
   "metadata": {
    "id": "988_CeCb2eFb"
   },
   "source": [
    "**Q4: Which of the input columns are non-numeric or categorial variables ?**\n",
    "\n",
    "Hint: `sex` is one of them. List the columns that are not numbers."
   ]
  },
  {
   "cell_type": "code",
   "execution_count": 11,
   "metadata": {
    "colab": {
     "base_uri": "https://localhost:8080/"
    },
    "executionInfo": {
     "elapsed": 42,
     "status": "ok",
     "timestamp": 1681085933469,
     "user": {
      "displayName": "Mirnaz Ali",
      "userId": "08466191610827258170"
     },
     "user_tz": -300
    },
    "id": "GPlk-cdp2eFb",
    "outputId": "172a6d29-10df-4615-ad0d-a5f6ff6238f8"
   },
   "outputs": [
    {
     "name": "stdout",
     "output_type": "stream",
     "text": [
      "Index(['sex', 'smoker', 'region'], dtype='object')\n"
     ]
    }
   ],
   "source": [
    "categorical_cols = dataframe.select_dtypes('object').columns\n",
    "print(categorical_cols)"
   ]
  },
  {
   "cell_type": "markdown",
   "metadata": {
    "id": "siG0rSGX2eFb"
   },
   "source": [
    "**Q5: What are the column titles of output/target variable(s)?**"
   ]
  },
  {
   "cell_type": "code",
   "execution_count": 12,
   "metadata": {
    "executionInfo": {
     "elapsed": 38,
     "status": "ok",
     "timestamp": 1681085933470,
     "user": {
      "displayName": "Mirnaz Ali",
      "userId": "08466191610827258170"
     },
     "user_tz": -300
    },
    "id": "P2nkrHwV2eFb"
   },
   "outputs": [],
   "source": [
    "output_cols = ['charges']"
   ]
  },
  {
   "cell_type": "markdown",
   "metadata": {
    "id": "1_fhDtb-2eFc"
   },
   "source": [
    "**Q: (Optional) What is the minimum, maximum and average value of the `charges` column? Can you show the distribution of values in a graph?**\n",
    "Use this data visualization cheatsheet for referece: https://jovian.ai/aakashns/dataviz-cheatsheet"
   ]
  },
  {
   "cell_type": "code",
   "execution_count": 13,
   "metadata": {
    "colab": {
     "base_uri": "https://localhost:8080/",
     "height": 556
    },
    "executionInfo": {
     "elapsed": 800,
     "status": "ok",
     "timestamp": 1681085934232,
     "user": {
      "displayName": "Mirnaz Ali",
      "userId": "08466191610827258170"
     },
     "user_tz": -300
    },
    "id": "gFG24cRH2eFc",
    "outputId": "ce62aee1-2b22-4705-e2c5-7adeadc6fd12"
   },
   "outputs": [
    {
     "name": "stdout",
     "output_type": "stream",
     "text": [
      "charges    1278.936246\n",
      "dtype: float64\n",
      "charges    72698.287931\n",
      "dtype: float64\n",
      "charges    15120.533958\n",
      "dtype: float64\n"
     ]
    },
    {
     "data": {
      "image/png": "[encoded data removed]",
      "text/plain": [
       "<Figure size 640x480 with 1 Axes>"
      ]
     },
     "metadata": {},
     "output_type": "display_data"
    }
   ],
   "source": [
    "print(dataframe[output_cols].min())\n",
    "print(dataframe[output_cols].max())\n",
    "print(dataframe[output_cols].mean())\n",
    "plt.title(\"Charges\")\n",
    "\n",
    "sns.histplot(dataframe[output_cols]);"
   ]
  },
  {
   "cell_type": "markdown",
   "metadata": {
    "id": "Zh5YOhes2eFc"
   },
   "source": [
    "Remember to commit your notebook to Jovian after every step, so that you don't lose your work."
   ]
  },
  {
   "cell_type": "code",
   "execution_count": 14,
   "metadata": {
    "colab": {
     "base_uri": "https://localhost:8080/"
    },
    "executionInfo": {
     "elapsed": 11853,
     "status": "ok",
     "timestamp": 1681085946075,
     "user": {
      "displayName": "Mirnaz Ali",
      "userId": "08466191610827258170"
     },
     "user_tz": -300
    },
    "id": "KUEU5mLM2eFc",
    "outputId": "8f357ca9-b65a-478b-a5db-4e4433c69e3d"
   },
   "outputs": [
    {
     "name": "stdout",
     "output_type": "stream",
     "text": [
      "\u001b[?25l     \u001b[90m━━━━━━━━━━━━━━━━━━━━━━━━━━━━━━━━━━━━━━━━\u001b[0m \u001b[32m0.0/68.6 KB\u001b[0m \u001b[31m?\u001b[0m eta \u001b[36m-:--:--\u001b[0m\r",
      "\u001b[2K     \u001b[90m━━━━━━━━━━━━━━━━━━━━━━━━━━━━━━━━━━━━━━━━\u001b[0m \u001b[32m68.6/68.6 KB\u001b[0m \u001b[31m4.5 MB/s\u001b[0m eta \u001b[36m0:00:00\u001b[0m\n",
      "\u001b[?25h  Preparing metadata (setup.py) ... \u001b[?25l\u001b[?25hdone\n",
      "  Building wheel for uuid (setup.py) ... \u001b[?25l\u001b[?25hdone\n"
     ]
    }
   ],
   "source": [
    "!pip install jovian --upgrade -q"
   ]
  },
  {
   "cell_type": "code",
   "execution_count": 15,
   "metadata": {
    "executionInfo": {
     "elapsed": 16,
     "status": "ok",
     "timestamp": 1681085946076,
     "user": {
      "displayName": "Mirnaz Ali",
      "userId": "08466191610827258170"
     },
     "user_tz": -300
    },
    "id": "OHpFgWqQ2eFd"
   },
   "outputs": [],
   "source": [
    "import jovian"
   ]
  },
  {
   "cell_type": "markdown",
   "metadata": {
    "id": "7PSEb3v12eFd"
   },
   "source": [
    "## Step 2: Prepare the dataset for training\n",
    "\n",
    "We need to convert the data from the Pandas dataframe into a PyTorch tensors for training. To do this, the first step is to convert it numpy arrays. If you've filled out `input_cols`, `categorial_cols` and `output_cols` correctly, this following function will perform the conversion to numpy arrays."
   ]
  },
  {
   "cell_type": "code",
   "execution_count": 16,
   "metadata": {
    "executionInfo": {
     "elapsed": 15,
     "status": "ok",
     "timestamp": 1681085946076,
     "user": {
      "displayName": "Mirnaz Ali",
      "userId": "08466191610827258170"
     },
     "user_tz": -300
    },
    "id": "ty-22UwO2eFd"
   },
   "outputs": [],
   "source": [
    "def dataframe_to_arrays(dataframe):\n",
    "    # Make a copy of the original dataframe\n",
    "    dataframe1 = dataframe.copy(deep=True)\n",
    "    # Convert non-numeric categorical columns to numbers\n",
    "    for col in categorical_cols:\n",
    "        dataframe1[col] = dataframe1[col].astype('category').cat.codes\n",
    "    # Extract input & outupts as numpy arrays\n",
    "    inputs_array = dataframe1[input_cols].to_numpy()\n",
    "    targets_array = dataframe1[output_cols].to_numpy()\n",
    "    return inputs_array, targets_array"
   ]
  },
  {
   "cell_type": "markdown",
   "metadata": {
    "id": "xAR1LVic2eFd"
   },
   "source": [
    "Read through the [Pandas documentation](https://pandas.pydata.org/pandas-docs/stable/user_guide/categorical.html) to understand how we're converting categorical variables into numbers."
   ]
  },
  {
   "cell_type": "code",
   "execution_count": 17,
   "metadata": {
    "colab": {
     "base_uri": "https://localhost:8080/"
    },
    "executionInfo": {
     "elapsed": 15,
     "status": "ok",
     "timestamp": 1681085946077,
     "user": {
      "displayName": "Mirnaz Ali",
      "userId": "08466191610827258170"
     },
     "user_tz": -300
    },
    "id": "RwJniLju2eFe",
    "outputId": "7562ba0b-37af-436a-adfa-6cc70b58a358"
   },
   "outputs": [
    {
     "data": {
      "text/plain": [
       "(array([[55.     ,  0.     , 34.41375,  2.     ,  0.     ,  1.     ],\n",
       "        [35.     ,  1.     , 38.5035 ,  1.     ,  1.     ,  0.     ],\n",
       "        [33.     ,  0.     , 35.175  ,  0.     ,  1.     ,  3.     ],\n",
       "        ...,\n",
       "        [29.     ,  1.     , 39.1545 ,  2.     ,  0.     ,  2.     ],\n",
       "        [26.     ,  1.     , 24.885  ,  2.     ,  0.     ,  3.     ],\n",
       "        [18.     ,  0.     , 33.516  ,  0.     ,  0.     ,  0.     ]]),\n",
       " array([[13986.240765],\n",
       "        [45342.674982],\n",
       "        [42270.48408 ],\n",
       "        ...,\n",
       "        [ 4626.252354],\n",
       "        [ 3972.13734 ],\n",
       "        [ 2514.818112]]))"
      ]
     },
     "execution_count": 17,
     "metadata": {},
     "output_type": "execute_result"
    }
   ],
   "source": [
    "inputs_array, targets_array = dataframe_to_arrays(dataframe)\n",
    "inputs_array, targets_array"
   ]
  },
  {
   "cell_type": "markdown",
   "metadata": {
    "id": "EOs4212c2eFe"
   },
   "source": [
    "**Q6: Convert the numpy arrays `inputs_array` and `targets_array` into PyTorch tensors. Make sure that the data type is `torch.float32`.**"
   ]
  },
  {
   "cell_type": "code",
   "execution_count": 18,
   "metadata": {
    "executionInfo": {
     "elapsed": 11,
     "status": "ok",
     "timestamp": 1681085946077,
     "user": {
      "displayName": "Mirnaz Ali",
      "userId": "08466191610827258170"
     },
     "user_tz": -300
    },
    "id": "MVpdbyVH2eFe"
   },
   "outputs": [],
   "source": [
    "inputs = torch.Tensor(inputs_array)\n",
    "targets = torch.Tensor(targets_array)"
   ]
  },
  {
   "cell_type": "code",
   "execution_count": 19,
   "metadata": {
    "colab": {
     "base_uri": "https://localhost:8080/"
    },
    "executionInfo": {
     "elapsed": 11,
     "status": "ok",
     "timestamp": 1681085946077,
     "user": {
      "displayName": "Mirnaz Ali",
      "userId": "08466191610827258170"
     },
     "user_tz": -300
    },
    "id": "mKqPmPqD2eFe",
    "outputId": "b0e9bd42-88f3-4461-96f3-ce2530718624"
   },
   "outputs": [
    {
     "data": {
      "text/plain": [
       "(torch.float32, torch.float32)"
      ]
     },
     "execution_count": 19,
     "metadata": {},
     "output_type": "execute_result"
    }
   ],
   "source": [
    "inputs.dtype, targets.dtype"
   ]
  },
  {
   "cell_type": "markdown",
   "metadata": {
    "id": "AtD70Duh2eFe"
   },
   "source": [
    "Next, we need to create PyTorch datasets & data loaders for training & validation. We'll start by creating a `TensorDataset`."
   ]
  },
  {
   "cell_type": "code",
   "execution_count": 20,
   "metadata": {
    "executionInfo": {
     "elapsed": 8,
     "status": "ok",
     "timestamp": 1681085946078,
     "user": {
      "displayName": "Mirnaz Ali",
      "userId": "08466191610827258170"
     },
     "user_tz": -300
    },
    "id": "Klnf97qM2eFf"
   },
   "outputs": [],
   "source": [
    "dataset = TensorDataset(inputs, targets)"
   ]
  },
  {
   "cell_type": "markdown",
   "metadata": {
    "id": "nK5-uTS42eFf"
   },
   "source": [
    "**Q7: Pick a number between `0.1` and `0.2` to determine the fraction of data that will be used for creating the validation set. Then use `random_split` to create training & validation datasets.**"
   ]
  },
  {
   "cell_type": "code",
   "execution_count": 21,
   "metadata": {
    "executionInfo": {
     "elapsed": 729,
     "status": "ok",
     "timestamp": 1681085946799,
     "user": {
      "displayName": "Mirnaz Ali",
      "userId": "08466191610827258170"
     },
     "user_tz": -300
    },
    "id": "ZeNEF3NZ2eFf"
   },
   "outputs": [],
   "source": [
    "val_percent = 0.15 # between 0.1 and 0.2\n",
    "val_size = int(num_rows * val_percent)\n",
    "train_size = num_rows - val_size\n",
    "\n",
    "train_ds, val_ds = random_split(dataset,[train_size,val_size]) # Use the random_split function to split dataset into 2 parts of the desired length"
   ]
  },
  {
   "cell_type": "markdown",
   "metadata": {
    "id": "h9jdJ0zY2eFf"
   },
   "source": [
    "Finally, we can create data loaders for training & validation.\n",
    "\n",
    "**Q8: Pick a batch size for the data loader.**"
   ]
  },
  {
   "cell_type": "code",
   "execution_count": 32,
   "metadata": {
    "executionInfo": {
     "elapsed": 651,
     "status": "ok",
     "timestamp": 1681086020063,
     "user": {
      "displayName": "Mirnaz Ali",
      "userId": "08466191610827258170"
     },
     "user_tz": -300
    },
    "id": "2bU2iruE2eFf"
   },
   "outputs": [],
   "source": [
    "batch_size = 64"
   ]
  },
  {
   "cell_type": "code",
   "execution_count": 33,
   "metadata": {
    "executionInfo": {
     "elapsed": 3,
     "status": "ok",
     "timestamp": 1681086020620,
     "user": {
      "displayName": "Mirnaz Ali",
      "userId": "08466191610827258170"
     },
     "user_tz": -300
    },
    "id": "r7Yf48uB2eFg"
   },
   "outputs": [],
   "source": [
    "train_loader = DataLoader(train_ds, batch_size, shuffle=True)\n",
    "val_loader = DataLoader(val_ds, batch_size)"
   ]
  },
  {
   "cell_type": "markdown",
   "metadata": {
    "id": "fY7bFc9F2eFg"
   },
   "source": [
    "Let's look at a batch of data to verify everything is working fine so far."
   ]
  },
  {
   "cell_type": "code",
   "execution_count": 34,
   "metadata": {
    "colab": {
     "base_uri": "https://localhost:8080/"
    },
    "executionInfo": {
     "elapsed": 6,
     "status": "ok",
     "timestamp": 1681086021090,
     "user": {
      "displayName": "Mirnaz Ali",
      "userId": "08466191610827258170"
     },
     "user_tz": -300
    },
    "id": "wV4gcyl22eFg",
    "outputId": "89e7e3fa-e734-4420-f6f7-b6ac954c310d"
   },
   "outputs": [
    {
     "name": "stdout",
     "output_type": "stream",
     "text": [
      "inputs: tensor([[50.0000,  1.0000, 38.9235,  1.0000,  0.0000,  2.0000],\n",
      "        [26.0000,  0.0000, 31.4160,  1.0000,  0.0000,  2.0000],\n",
      "        [25.0000,  1.0000, 31.1850,  3.0000,  1.0000,  3.0000],\n",
      "        [37.0000,  0.0000, 26.8328,  1.0000,  1.0000,  0.0000],\n",
      "        [57.0000,  1.0000, 42.2940,  0.0000,  0.0000,  0.0000],\n",
      "        [28.0000,  0.0000, 34.7655,  0.0000,  0.0000,  2.0000],\n",
      "        [52.0000,  1.0000, 38.5350,  0.0000,  0.0000,  3.0000],\n",
      "        [60.0000,  0.0000, 27.1320,  0.0000,  0.0000,  1.0000],\n",
      "        [56.0000,  1.0000, 28.0298,  1.0000,  1.0000,  1.0000],\n",
      "        [49.0000,  0.0000, 24.3390,  2.0000,  0.0000,  1.0000],\n",
      "        [18.0000,  1.0000, 22.6432,  0.0000,  1.0000,  0.0000],\n",
      "        [37.0000,  0.0000, 29.1270,  3.0000,  0.0000,  1.0000],\n",
      "        [26.0000,  1.0000, 21.8400,  0.0000,  0.0000,  3.0000],\n",
      "        [35.0000,  0.0000, 37.6058,  1.0000,  0.0000,  1.0000],\n",
      "        [62.0000,  1.0000, 28.9275,  1.0000,  0.0000,  1.0000],\n",
      "        [27.0000,  0.0000, 24.3705,  1.0000,  0.0000,  2.0000],\n",
      "        [18.0000,  1.0000, 27.4890,  2.0000,  0.0000,  2.0000],\n",
      "        [55.0000,  0.0000, 28.1400,  1.0000,  0.0000,  3.0000],\n",
      "        [41.0000,  1.0000, 30.2400,  1.0000,  0.0000,  3.0000],\n",
      "        [64.0000,  0.0000, 41.6850,  0.0000,  0.0000,  3.0000],\n",
      "        [63.0000,  1.0000, 33.0173,  0.0000,  0.0000,  0.0000],\n",
      "        [41.0000,  0.0000, 29.7255,  1.0000,  0.0000,  1.0000],\n",
      "        [34.0000,  1.0000, 36.4087,  0.0000,  0.0000,  0.0000],\n",
      "        [56.0000,  0.0000, 33.9150,  3.0000,  0.0000,  0.0000],\n",
      "        [34.0000,  1.0000, 37.6058,  0.0000,  0.0000,  1.0000],\n",
      "        [58.0000,  0.0000, 23.9085,  0.0000,  0.0000,  2.0000],\n",
      "        [26.0000,  1.0000, 32.6183,  0.0000,  0.0000,  1.0000],\n",
      "        [18.0000,  0.0000, 39.1545,  1.0000,  0.0000,  2.0000],\n",
      "        [59.0000,  1.0000, 28.8750,  1.0000,  0.0000,  3.0000],\n",
      "        [25.0000,  0.0000, 21.8400,  1.0000,  0.0000,  3.0000],\n",
      "        [48.0000,  1.0000, 31.1850,  0.0000,  0.0000,  2.0000],\n",
      "        [34.0000,  1.0000, 34.4400,  1.0000,  0.0000,  3.0000],\n",
      "        [30.0000,  0.0000, 29.8253,  1.0000,  0.0000,  1.0000],\n",
      "        [57.0000,  0.0000, 30.1350,  0.0000,  0.0000,  3.0000],\n",
      "        [53.0000,  1.0000, 30.0300,  3.0000,  0.0000,  3.0000],\n",
      "        [46.0000,  1.0000, 27.9510,  1.0000,  0.0000,  2.0000],\n",
      "        [27.0000,  1.0000, 27.3315,  0.0000,  0.0000,  0.0000],\n",
      "        [36.0000,  0.0000, 28.2292,  0.0000,  0.0000,  1.0000],\n",
      "        [28.0000,  0.0000, 28.8750,  2.0000,  0.0000,  3.0000],\n",
      "        [64.0000,  1.0000, 39.8003,  0.0000,  0.0000,  1.0000],\n",
      "        [56.0000,  0.0000, 30.2243,  0.0000,  0.0000,  0.0000],\n",
      "        [37.0000,  0.0000, 49.9800,  2.0000,  1.0000,  3.0000],\n",
      "        [18.0000,  1.0000, 24.1395,  0.0000,  0.0000,  0.0000],\n",
      "        [42.0000,  1.0000, 26.1030,  0.0000,  0.0000,  2.0000],\n",
      "        [40.0000,  1.0000, 20.7900,  1.0000,  1.0000,  2.0000],\n",
      "        [33.0000,  0.0000, 28.0298,  0.0000,  0.0000,  1.0000],\n",
      "        [54.0000,  1.0000, 32.3400,  1.0000,  1.0000,  2.0000],\n",
      "        [35.0000,  0.0000, 35.8102,  3.0000,  1.0000,  1.0000],\n",
      "        [56.0000,  1.0000, 36.1515,  0.0000,  0.0000,  2.0000],\n",
      "        [60.0000,  0.0000, 25.2367,  0.0000,  0.0000,  1.0000],\n",
      "        [39.0000,  1.0000, 25.7355,  2.0000,  0.0000,  1.0000],\n",
      "        [35.0000,  1.0000, 36.0360,  3.0000,  0.0000,  2.0000],\n",
      "        [24.0000,  0.0000, 35.6895,  0.0000,  0.0000,  2.0000],\n",
      "        [50.0000,  1.0000, 38.0100,  0.0000,  0.0000,  3.0000],\n",
      "        [21.0000,  0.0000, 35.3115,  2.0000,  0.0000,  1.0000],\n",
      "        [35.0000,  1.0000, 38.5035,  1.0000,  1.0000,  0.0000],\n",
      "        [49.0000,  1.0000, 30.1350,  1.0000,  0.0000,  3.0000],\n",
      "        [19.0000,  0.0000, 29.3265,  3.0000,  0.0000,  1.0000],\n",
      "        [30.0000,  1.0000, 33.1485,  3.0000,  0.0000,  2.0000],\n",
      "        [61.0000,  0.0000, 41.0550,  2.0000,  0.0000,  3.0000],\n",
      "        [43.0000,  0.0000, 28.2292,  0.0000,  1.0000,  1.0000],\n",
      "        [53.0000,  1.0000, 38.4300,  3.0000,  0.0000,  3.0000],\n",
      "        [45.0000,  0.0000, 40.1992,  0.0000,  0.0000,  0.0000],\n",
      "        [28.0000,  0.0000, 18.1545,  0.0000,  0.0000,  0.0000]])\n",
      "targets: tensor([[10314.7510],\n",
      "        [ 3867.9937],\n",
      "        [22724.1426],\n",
      "        [23138.4238],\n",
      "        [23608.2832],\n",
      "        [ 3615.6409],\n",
      "        [10424.8037],\n",
      "        [32972.3750],\n",
      "        [29764.6348],\n",
      "        [11578.7324],\n",
      "        [15672.5742],\n",
      "        [ 8300.9160],\n",
      "        [ 2624.6221],\n",
      "        [ 6418.7222],\n",
      "        [15888.9395],\n",
      "        [ 4060.5535],\n",
      "        [ 2626.5625],\n",
      "        [40082.5547],\n",
      "        [ 7161.7480],\n",
      "        [16323.6953],\n",
      "        [15930.8789],\n",
      "        [ 8155.0513],\n",
      "        [ 5151.4619],\n",
      "        [15310.5020],\n",
      "        [ 4925.2686],\n",
      "        [13490.5117],\n",
      "        [ 3077.5078],\n",
      "        [ 2530.1675],\n",
      "        [14060.5635],\n",
      "        [ 3658.0171],\n",
      "        [ 8880.1836],\n",
      "        [16368.5352],\n",
      "        [ 5160.9888],\n",
      "        [13059.0195],\n",
      "        [12828.9004],\n",
      "        [ 8826.0049],\n",
      "        [ 3500.7219],\n",
      "        [ 6005.3125],\n",
      "        [23002.5449],\n",
      "        [16200.0107],\n",
      "        [13290.5518],\n",
      "        [52569.4023],\n",
      "        [ 1943.2076],\n",
      "        [ 6802.2515],\n",
      "        [19584.6543],\n",
      "        [ 5211.4106],\n",
      "        [47879.4531],\n",
      "        [45581.1055],\n",
      "        [12077.4170],\n",
      "        [14833.9180],\n",
      "        [ 7649.6187],\n",
      "        [ 6765.1929],\n",
      "        [ 2819.6008],\n",
      "        [ 9641.9121],\n",
      "        [ 4081.0046],\n",
      "        [45342.6758],\n",
      "        [ 9921.9395],\n",
      "        [21476.1230],\n",
      "        [ 5514.8438],\n",
      "        [16227.9824],\n",
      "        [24822.7266],\n",
      "        [12841.5771],\n",
      "        [ 9046.2314],\n",
      "        [ 4255.1924]])\n"
     ]
    }
   ],
   "source": [
    "for xb, yb in train_loader:\n",
    "    print(\"inputs:\", xb)\n",
    "    print(\"targets:\", yb)\n",
    "    break"
   ]
  },
  {
   "cell_type": "markdown",
   "metadata": {
    "id": "90Ao1mSW2eFg"
   },
   "source": [
    "Let's save our work by committing to Jovian."
   ]
  },
  {
   "cell_type": "markdown",
   "metadata": {
    "id": "NWBlFt7W2eFg"
   },
   "source": [
    "## Step 3: Create a Linear Regression Model\n",
    "\n",
    "Our model itself is a fairly straightforward linear regression (we'll build more complex models in the next assignment). \n"
   ]
  },
  {
   "cell_type": "code",
   "execution_count": 35,
   "metadata": {
    "executionInfo": {
     "elapsed": 3,
     "status": "ok",
     "timestamp": 1681086021637,
     "user": {
      "displayName": "Mirnaz Ali",
      "userId": "08466191610827258170"
     },
     "user_tz": -300
    },
    "id": "5FVMjLZd2eFg"
   },
   "outputs": [],
   "source": [
    "input_size = len(input_cols)\n",
    "output_size = len(output_cols)"
   ]
  },
  {
   "cell_type": "markdown",
   "metadata": {
    "id": "UD4AXoYU2eFh"
   },
   "source": [
    "**Q9: Complete the class definition below by filling out the constructor (`__init__`), `forward`, `training_step` and `validation_step` methods.**\n",
    "\n",
    "Hint: Think carefully about picking a good loss fuction (it's not cross entropy). Maybe try 2-3 of them and see which one works best. See https://pytorch.org/docs/stable/nn.functional.html#loss-functions"
   ]
  },
  {
   "cell_type": "code",
   "execution_count": 90,
   "metadata": {
    "executionInfo": {
     "elapsed": 11,
     "status": "ok",
     "timestamp": 1681086315630,
     "user": {
      "displayName": "Mirnaz Ali",
      "userId": "08466191610827258170"
     },
     "user_tz": -300
    },
    "id": "lIdCITqI2eFh"
   },
   "outputs": [],
   "source": [
    "class InsuranceModel(nn.Module):\n",
    "    def __init__(self):\n",
    "        super().__init__()\n",
    "        self.linear = nn.Linear(input_size,output_size)                  # fill this (hint: use input_size & output_size defined above)\n",
    "        \n",
    "    def forward(self, xb):\n",
    "        out = self.linear(xb)                          # fill this\n",
    "        return out\n",
    "    \n",
    "    def training_step(self, batch):\n",
    "        inputs, targets = batch \n",
    "        # Generate predictions\n",
    "        out = self(inputs)          \n",
    "        # Calcuate loss\n",
    "        mseloss = F.mse_loss(out,targets)                        # fill this\n",
    "        #l1loss = F.l1_loss(inputs,targets)\n",
    "        #huberloss = F.huber_loss(inputs,targets)\n",
    "        #smoothl1 = F.smooth_l1_loss(inputs,targets)\n",
    "        return mseloss\n",
    "    \n",
    "    def validation_step(self, batch):\n",
    "        inputs, targets = batch\n",
    "        # Generate predictions\n",
    "        out = self(inputs)\n",
    "        # Calculate loss\n",
    "        mseloss = F.mse_loss(out,targets)                           # fill this    \n",
    "        return {'val_loss': mseloss.detach()}\n",
    "        \n",
    "    def validation_epoch_end(self, outputs):\n",
    "        batch_losses = [x['val_loss'] for x in outputs]\n",
    "        epoch_loss = torch.stack(batch_losses).mean()   # Combine losses\n",
    "        return {'val_loss': epoch_loss.item()}\n",
    "    \n",
    "    def epoch_end(self, epoch, result, num_epochs):\n",
    "        # Print result every 20th epoch\n",
    "        if (epoch+1) % 20 == 0 or epoch == num_epochs-1:\n",
    "            print(\"Epoch [{}], val_loss: {:.4f}\".format(epoch+1, result['val_loss']))"
   ]
  },
  {
   "cell_type": "markdown",
   "metadata": {
    "id": "vsQ7QwLL2eFh"
   },
   "source": [
    "Let us create a model using the `InsuranceModel` class. You may need to come back later and re-run the next cell to reinitialize the model, in case the loss becomes `nan` or `infinity`."
   ]
  },
  {
   "cell_type": "code",
   "execution_count": 91,
   "metadata": {
    "executionInfo": {
     "elapsed": 11,
     "status": "ok",
     "timestamp": 1681086315631,
     "user": {
      "displayName": "Mirnaz Ali",
      "userId": "08466191610827258170"
     },
     "user_tz": -300
    },
    "id": "jSryTRBI2eFh"
   },
   "outputs": [],
   "source": [
    "model = InsuranceModel()"
   ]
  },
  {
   "cell_type": "markdown",
   "metadata": {
    "id": "h6Q9N4lB2eFi"
   },
   "source": [
    "Let's check out the weights and biases of the model using `model.parameters`."
   ]
  },
  {
   "cell_type": "code",
   "execution_count": 92,
   "metadata": {
    "colab": {
     "base_uri": "https://localhost:8080/"
    },
    "executionInfo": {
     "elapsed": 11,
     "status": "ok",
     "timestamp": 1681086315631,
     "user": {
      "displayName": "Mirnaz Ali",
      "userId": "08466191610827258170"
     },
     "user_tz": -300
    },
    "id": "BUZmPtHU2eFi",
    "outputId": "748b35f3-32d8-4574-a6c2-da330d170152"
   },
   "outputs": [
    {
     "data": {
      "text/plain": [
       "[Parameter containing:\n",
       " tensor([[ 0.0611,  0.0609, -0.3627,  0.1339,  0.2081, -0.2837]],\n",
       "        requires_grad=True),\n",
       " Parameter containing:\n",
       " tensor([0.3745], requires_grad=True)]"
      ]
     },
     "execution_count": 92,
     "metadata": {},
     "output_type": "execute_result"
    }
   ],
   "source": [
    "list(model.parameters())"
   ]
  },
  {
   "cell_type": "markdown",
   "metadata": {
    "id": "MyHzDxGR2eFi"
   },
   "source": [
    "One final commit before we train the model."
   ]
  },
  {
   "cell_type": "code",
   "execution_count": 93,
   "metadata": {
    "colab": {
     "base_uri": "https://localhost:8080/"
    },
    "executionInfo": {
     "elapsed": 14,
     "status": "ok",
     "timestamp": 1681086316354,
     "user": {
      "displayName": "Mirnaz Ali",
      "userId": "08466191610827258170"
     },
     "user_tz": -300
    },
    "id": "Q6j1vHXf2eFi",
    "outputId": "486a6c91-a12d-4142-da4b-7e210f23401d"
   },
   "outputs": [
    {
     "name": "stdout",
     "output_type": "stream",
     "text": [
      "[jovian] Detected Colab notebook...\u001b[0m\n",
      "[jovian] jovian.commit() is no longer required on Google Colab. If you ran this notebook from Jovian, \n",
      "then just save this file in Colab using Ctrl+S/Cmd+S and it will be updated on Jovian. \n",
      "Also, you can also delete this cell, it's no longer necessary.\u001b[0m\n"
     ]
    }
   ],
   "source": [
    "jovian.commit(project=project_name, environment=None)"
   ]
  },
  {
   "cell_type": "markdown",
   "metadata": {
    "id": "1Gbha_e22eFj"
   },
   "source": [
    "## Step 4: Train the model to fit the data\n",
    "\n",
    "To train our model, we'll use the same `fit` function explained in the lecture. That's the benefit of defining a generic training loop - you can use it for any problem."
   ]
  },
  {
   "cell_type": "code",
   "execution_count": 94,
   "metadata": {
    "executionInfo": {
     "elapsed": 10,
     "status": "ok",
     "timestamp": 1681086316354,
     "user": {
      "displayName": "Mirnaz Ali",
      "userId": "08466191610827258170"
     },
     "user_tz": -300
    },
    "id": "ymFzCZ6k2eFj"
   },
   "outputs": [],
   "source": [
    "def evaluate(model, val_loader):\n",
    "    outputs = [model.validation_step(batch) for batch in val_loader]\n",
    "    return model.validation_epoch_end(outputs)\n",
    "\n",
    "def fit(epochs, lr, model, train_loader, val_loader, opt_func=torch.optim.SGD):\n",
    "    history = []\n",
    "    optimizer = opt_func(model.parameters(), lr)\n",
    "    for epoch in range(epochs):\n",
    "        # Training Phase \n",
    "        for batch in train_loader:\n",
    "            loss = model.training_step(batch)\n",
    "            loss.backward()\n",
    "            optimizer.step()\n",
    "            optimizer.zero_grad()\n",
    "        # Validation phase\n",
    "        result = evaluate(model, val_loader)\n",
    "        model.epoch_end(epoch, result, epochs)\n",
    "        history.append(result)\n",
    "    return history"
   ]
  },
  {
   "cell_type": "markdown",
   "metadata": {
    "id": "tjE3E9uO2eFj"
   },
   "source": [
    "**Q10: Use the `evaluate` function to calculate the loss on the validation set before training.**"
   ]
  },
  {
   "cell_type": "code",
   "execution_count": 95,
   "metadata": {
    "colab": {
     "base_uri": "https://localhost:8080/"
    },
    "executionInfo": {
     "elapsed": 10,
     "status": "ok",
     "timestamp": 1681086316354,
     "user": {
      "displayName": "Mirnaz Ali",
      "userId": "08466191610827258170"
     },
     "user_tz": -300
    },
    "id": "CvK1WsHM2eFk",
    "outputId": "9d0decf7-0eee-4bce-dbcc-4223c0a444d1"
   },
   "outputs": [
    {
     "name": "stdout",
     "output_type": "stream",
     "text": [
      "{'val_loss': 17153.529296875}\n"
     ]
    }
   ],
   "source": [
    "result = evaluate(model, val_loader) # Use the evaluate function\n",
    "print(result)"
   ]
  },
  {
   "cell_type": "markdown",
   "metadata": {
    "id": "foWZw0GO2eFk"
   },
   "source": [
    "\n",
    "We are now ready to train the model. You may need to run the training loop many times, for different number of epochs and with different learning rates, to get a good result. Also, if your loss becomes too large (or `nan`), you may have to re-initialize the model by running the cell `model = InsuranceModel()`. Experiment with this for a while, and try to get to as low a loss as possible."
   ]
  },
  {
   "cell_type": "markdown",
   "metadata": {
    "id": "7H-dstsb2eFk"
   },
   "source": [
    "**Q11: Train the model 4-5 times with different learning rates & for different number of epochs.**\n",
    "\n",
    "Hint: Vary learning rates by orders of 10 (e.g. `1e-2`, `1e-3`, `1e-4`, `1e-5`, `1e-6`) to figure out what works."
   ]
  },
  {
   "cell_type": "code",
   "execution_count": 102,
   "metadata": {
    "colab": {
     "base_uri": "https://localhost:8080/"
    },
    "executionInfo": {
     "elapsed": 19655,
     "status": "ok",
     "timestamp": 1681086363339,
     "user": {
      "displayName": "Mirnaz Ali",
      "userId": "08466191610827258170"
     },
     "user_tz": -300
    },
    "id": "eVkTAo-U2eFk",
    "outputId": "0756c853-3d81-4ab6-c273-8d9988eba2fe"
   },
   "outputs": [
    {
     "name": "stdout",
     "output_type": "stream",
     "text": [
      "Epoch [20], val_loss: 10485.1689\n",
      "Epoch [40], val_loss: 10470.2031\n",
      "Epoch [60], val_loss: 10455.6914\n",
      "Epoch [80], val_loss: 10441.7314\n",
      "Epoch [100], val_loss: 10428.4756\n",
      "Epoch [120], val_loss: 10416.0479\n",
      "Epoch [140], val_loss: 10404.1768\n",
      "Epoch [160], val_loss: 10392.6475\n",
      "Epoch [180], val_loss: 10381.8721\n",
      "Epoch [200], val_loss: 10371.4404\n",
      "Epoch [220], val_loss: 10361.7412\n",
      "Epoch [240], val_loss: 10352.4590\n",
      "Epoch [260], val_loss: 10343.4248\n",
      "Epoch [280], val_loss: 10334.9639\n",
      "Epoch [300], val_loss: 10326.7705\n",
      "Epoch [320], val_loss: 10319.0195\n",
      "Epoch [340], val_loss: 10311.7256\n",
      "Epoch [360], val_loss: 10304.7998\n",
      "Epoch [380], val_loss: 10297.9844\n",
      "Epoch [400], val_loss: 10291.2500\n",
      "Epoch [420], val_loss: 10284.7646\n",
      "Epoch [440], val_loss: 10278.5283\n",
      "Epoch [460], val_loss: 10272.7217\n",
      "Epoch [480], val_loss: 10267.1562\n",
      "Epoch [500], val_loss: 10261.8242\n",
      "Epoch [520], val_loss: 10256.7529\n",
      "Epoch [540], val_loss: 10251.8779\n",
      "Epoch [560], val_loss: 10247.4170\n",
      "Epoch [580], val_loss: 10243.1943\n",
      "Epoch [600], val_loss: 10239.0811\n",
      "Epoch [620], val_loss: 10235.0068\n",
      "Epoch [640], val_loss: 10231.0322\n",
      "Epoch [660], val_loss: 10227.2607\n",
      "Epoch [680], val_loss: 10223.5625\n",
      "Epoch [700], val_loss: 10220.1064\n",
      "Epoch [720], val_loss: 10216.6455\n",
      "Epoch [740], val_loss: 10213.5996\n",
      "Epoch [760], val_loss: 10210.6855\n",
      "Epoch [780], val_loss: 10207.7666\n",
      "Epoch [800], val_loss: 10204.8467\n",
      "Epoch [820], val_loss: 10201.9385\n",
      "Epoch [840], val_loss: 10199.1074\n",
      "Epoch [860], val_loss: 10196.3975\n",
      "Epoch [880], val_loss: 10193.7930\n",
      "Epoch [900], val_loss: 10191.3291\n",
      "Epoch [920], val_loss: 10188.9580\n",
      "Epoch [940], val_loss: 10186.6406\n",
      "Epoch [960], val_loss: 10184.3154\n",
      "Epoch [980], val_loss: 10181.9922\n",
      "Epoch [1000], val_loss: 10179.7100\n"
     ]
    }
   ],
   "source": [
    "epochs = 1000\n",
    "lr = 0.0002\n",
    "history1 = fit(epochs, lr, model, train_loader, val_loader)"
   ]
  },
  {
   "cell_type": "code",
   "execution_count": 103,
   "metadata": {
    "colab": {
     "base_uri": "https://localhost:8080/"
    },
    "executionInfo": {
     "elapsed": 2492,
     "status": "ok",
     "timestamp": 1681086365815,
     "user": {
      "displayName": "Mirnaz Ali",
      "userId": "08466191610827258170"
     },
     "user_tz": -300
    },
    "id": "TdVq8bf62eFk",
    "outputId": "49790db2-9191-494b-9f58-54542fdca0ee"
   },
   "outputs": [
    {
     "name": "stdout",
     "output_type": "stream",
     "text": [
      "Epoch [20], val_loss: 10177.5195\n",
      "Epoch [40], val_loss: 10175.3252\n",
      "Epoch [60], val_loss: 10173.1602\n",
      "Epoch [80], val_loss: 10171.0557\n",
      "Epoch [100], val_loss: 10168.9990\n"
     ]
    }
   ],
   "source": [
    "epochs = 100\n",
    "lr = 0.0002\n",
    "history2 = fit(epochs, lr, model, train_loader, val_loader)"
   ]
  },
  {
   "cell_type": "code",
   "execution_count": 104,
   "metadata": {
    "colab": {
     "base_uri": "https://localhost:8080/"
    },
    "executionInfo": {
     "elapsed": 1170,
     "status": "ok",
     "timestamp": 1681086366975,
     "user": {
      "displayName": "Mirnaz Ali",
      "userId": "08466191610827258170"
     },
     "user_tz": -300
    },
    "id": "M-9ylLut2eFl",
    "outputId": "6096d121-73c2-439c-e170-57fa1a37fe98"
   },
   "outputs": [
    {
     "name": "stdout",
     "output_type": "stream",
     "text": [
      "Epoch [20], val_loss: 10166.9443\n",
      "Epoch [40], val_loss: 10164.9004\n",
      "Epoch [60], val_loss: 10162.8428\n",
      "Epoch [80], val_loss: 10160.8115\n",
      "Epoch [100], val_loss: 10158.8193\n"
     ]
    }
   ],
   "source": [
    "epochs = 100\n",
    "lr = 0.0002\n",
    "history3 = fit(epochs, lr, model, train_loader, val_loader)"
   ]
  },
  {
   "cell_type": "code",
   "execution_count": 105,
   "metadata": {
    "colab": {
     "base_uri": "https://localhost:8080/"
    },
    "executionInfo": {
     "elapsed": 1621,
     "status": "ok",
     "timestamp": 1681086368593,
     "user": {
      "displayName": "Mirnaz Ali",
      "userId": "08466191610827258170"
     },
     "user_tz": -300
    },
    "id": "cG2NhaC52eFl",
    "outputId": "770f0a2b-42ba-49d7-ece0-a87d681791c5"
   },
   "outputs": [
    {
     "name": "stdout",
     "output_type": "stream",
     "text": [
      "Epoch [20], val_loss: 10156.8350\n",
      "Epoch [40], val_loss: 10154.8789\n",
      "Epoch [60], val_loss: 10152.9863\n",
      "Epoch [80], val_loss: 10151.1572\n",
      "Epoch [100], val_loss: 10149.3193\n"
     ]
    }
   ],
   "source": [
    "epochs = 100\n",
    "lr = 0.0002\n",
    "history4 = fit(epochs, lr, model, train_loader, val_loader)"
   ]
  },
  {
   "cell_type": "code",
   "execution_count": 106,
   "metadata": {
    "colab": {
     "base_uri": "https://localhost:8080/"
    },
    "executionInfo": {
     "elapsed": 2421,
     "status": "ok",
     "timestamp": 1681086371011,
     "user": {
      "displayName": "Mirnaz Ali",
      "userId": "08466191610827258170"
     },
     "user_tz": -300
    },
    "id": "tJXvFit82eFl",
    "outputId": "45eaec89-a534-4e0c-d6c5-c2cfd2d51f1f"
   },
   "outputs": [
    {
     "name": "stdout",
     "output_type": "stream",
     "text": [
      "Epoch [20], val_loss: 10147.5039\n",
      "Epoch [40], val_loss: 10145.6670\n",
      "Epoch [60], val_loss: 10143.9375\n",
      "Epoch [80], val_loss: 10142.2812\n",
      "Epoch [100], val_loss: 10140.6865\n"
     ]
    }
   ],
   "source": [
    "epochs = 100\n",
    "lr = 0.0002\n",
    "history5 = fit(epochs, lr, model, train_loader, val_loader)"
   ]
  },
  {
   "cell_type": "markdown",
   "metadata": {
    "id": "fYWoT58_2eFm"
   },
   "source": [
    "**Q12: What is the final validation loss of your model?**"
   ]
  },
  {
   "cell_type": "code",
   "execution_count": 107,
   "metadata": {
    "colab": {
     "base_uri": "https://localhost:8080/"
    },
    "executionInfo": {
     "elapsed": 29,
     "status": "ok",
     "timestamp": 1681086371012,
     "user": {
      "displayName": "Mirnaz Ali",
      "userId": "08466191610827258170"
     },
     "user_tz": -300
    },
    "id": "3bPMvjSO2eFm",
    "outputId": "10b00506-3d5b-4a57-aa00-0933b4f82134"
   },
   "outputs": [
    {
     "name": "stdout",
     "output_type": "stream",
     "text": [
      "10140.6865234375\n"
     ]
    }
   ],
   "source": [
    "val_loss = [result['val_loss'] for result in history5]\n",
    "print(val_loss[-1])"
   ]
  },
  {
   "cell_type": "markdown",
   "metadata": {
    "id": "6P4jDjDu2eFm"
   },
   "source": [
    "Let's log the final validation loss to Jovian and commit the notebook"
   ]
  },
  {
   "cell_type": "code",
   "execution_count": 108,
   "metadata": {
    "colab": {
     "base_uri": "https://localhost:8080/"
    },
    "executionInfo": {
     "elapsed": 26,
     "status": "ok",
     "timestamp": 1681086371012,
     "user": {
      "displayName": "Mirnaz Ali",
      "userId": "08466191610827258170"
     },
     "user_tz": -300
    },
    "id": "nc8MEeaI2eFm",
    "outputId": "1a1f5d60-156a-46fd-a1f1-a8e14c4a8f53"
   },
   "outputs": [
    {
     "name": "stdout",
     "output_type": "stream",
     "text": [
      "[jovian] Metrics logged.\u001b[0m\n"
     ]
    }
   ],
   "source": [
    "jovian.log_metrics(val_loss=val_loss)"
   ]
  },
  {
   "cell_type": "code",
   "execution_count": 109,
   "metadata": {
    "colab": {
     "base_uri": "https://localhost:8080/"
    },
    "executionInfo": {
     "elapsed": 23,
     "status": "ok",
     "timestamp": 1681086371012,
     "user": {
      "displayName": "Mirnaz Ali",
      "userId": "08466191610827258170"
     },
     "user_tz": -300
    },
    "id": "YNVhzsyF2eFn",
    "outputId": "ff8b8fd5-79a5-4405-ba66-5b1dea357bdf"
   },
   "outputs": [
    {
     "name": "stdout",
     "output_type": "stream",
     "text": [
      "[jovian] Detected Colab notebook...\u001b[0m\n",
      "[jovian] jovian.commit() is no longer required on Google Colab. If you ran this notebook from Jovian, \n",
      "then just save this file in Colab using Ctrl+S/Cmd+S and it will be updated on Jovian. \n",
      "Also, you can also delete this cell, it's no longer necessary.\u001b[0m\n"
     ]
    }
   ],
   "source": [
    "jovian.commit(project=project_name, environment=None)"
   ]
  },
  {
   "cell_type": "markdown",
   "metadata": {
    "id": "Hu3EJqdF2eFn"
   },
   "source": [
    "Now scroll back up, re-initialize the model, and try different set of values for batch size, number of epochs, learning rate etc. Commit each experiment and use the \"Compare\" and \"View Diff\" options on Jovian to compare the different results."
   ]
  },
  {
   "cell_type": "markdown",
   "metadata": {
    "id": "ovXlD7vB2eFn"
   },
   "source": [
    "## Step 5: Make predictions using the trained model\n",
    "\n",
    "**Q13: Complete the following function definition to make predictions on a single input**"
   ]
  },
  {
   "cell_type": "code",
   "execution_count": 110,
   "metadata": {
    "executionInfo": {
     "elapsed": 19,
     "status": "ok",
     "timestamp": 1681086371013,
     "user": {
      "displayName": "Mirnaz Ali",
      "userId": "08466191610827258170"
     },
     "user_tz": -300
    },
    "id": "eRExO_wc2eFn"
   },
   "outputs": [],
   "source": [
    "def predict_single(input, target, model):\n",
    "    inputs = input.unsqueeze(0)\n",
    "    predictions = model(inputs)                # fill this\n",
    "    prediction = predictions[0].detach()\n",
    "    print(\"Input:\", input)\n",
    "    print(\"Target:\", target)\n",
    "    print(\"Prediction:\", prediction)"
   ]
  },
  {
   "cell_type": "code",
   "execution_count": 111,
   "metadata": {
    "colab": {
     "base_uri": "https://localhost:8080/"
    },
    "executionInfo": {
     "elapsed": 18,
     "status": "ok",
     "timestamp": 1681086371013,
     "user": {
      "displayName": "Mirnaz Ali",
      "userId": "08466191610827258170"
     },
     "user_tz": -300
    },
    "id": "-Vz7bxy42eFn",
    "outputId": "1f8fb1ec-2b44-4682-c00c-5b42c72c0da7"
   },
   "outputs": [
    {
     "name": "stdout",
     "output_type": "stream",
     "text": [
      "Input: tensor([28.0000,  1.0000, 25.5150,  5.0000,  0.0000,  3.0000])\n",
      "Target: tensor([6401.5205])\n",
      "Prediction: tensor([7018.5762])\n"
     ]
    }
   ],
   "source": [
    "input, target = val_ds[0]\n",
    "predict_single(input, target, model)"
   ]
  },
  {
   "cell_type": "code",
   "execution_count": 112,
   "metadata": {
    "colab": {
     "base_uri": "https://localhost:8080/"
    },
    "executionInfo": {
     "elapsed": 14,
     "status": "ok",
     "timestamp": 1681086371013,
     "user": {
      "displayName": "Mirnaz Ali",
      "userId": "08466191610827258170"
     },
     "user_tz": -300
    },
    "id": "ys3IzvEt2eFn",
    "outputId": "3a2679c9-ffe0-4cdd-bf4b-bdd3e3144db5"
   },
   "outputs": [
    {
     "name": "stdout",
     "output_type": "stream",
     "text": [
      "Input: tensor([23.0000,  1.0000, 27.8355,  0.0000,  0.0000,  2.0000])\n",
      "Target: tensor([2070.0986])\n",
      "Prediction: tensor([6357.7271])\n"
     ]
    }
   ],
   "source": [
    "input, target = val_ds[10]\n",
    "predict_single(input, target, model)"
   ]
  },
  {
   "cell_type": "code",
   "execution_count": 113,
   "metadata": {
    "colab": {
     "base_uri": "https://localhost:8080/"
    },
    "executionInfo": {
     "elapsed": 11,
     "status": "ok",
     "timestamp": 1681086371014,
     "user": {
      "displayName": "Mirnaz Ali",
      "userId": "08466191610827258170"
     },
     "user_tz": -300
    },
    "id": "uO7UjuUn2eFn",
    "outputId": "d40901ea-a56a-4525-b481-03e93eb21e6b"
   },
   "outputs": [
    {
     "name": "stdout",
     "output_type": "stream",
     "text": [
      "Input: tensor([46.0000,  0.0000, 35.1120,  1.0000,  0.0000,  2.0000])\n",
      "Target: tensor([9394.2725])\n",
      "Prediction: tensor([10876.4893])\n"
     ]
    }
   ],
   "source": [
    "input, target = val_ds[23]\n",
    "predict_single(input, target, model)"
   ]
  },
  {
   "cell_type": "markdown",
   "metadata": {
    "id": "dDHpeg5z2eFo"
   },
   "source": [
    "Are you happy with your model's predictions? Try to improve them further."
   ]
  },
  {
   "cell_type": "markdown",
   "metadata": {
    "id": "66qkuqh22eFo"
   },
   "source": [
    "## (Optional) Step 6: Try another dataset & blog about it\n",
    "\n",
    "While this last step is optional for the submission of your assignment, we highly recommend that you do it. Try to replicate this notebook for a different linear regression or logistic regression problem. This will help solidify your understanding, and give you a chance to differentiate the generic patterns in machine learning from problem-specific details.You can use one of these starer notebooks (just change the dataset):\n",
    "\n",
    "- Linear regression (minimal): https://jovian.ai/aakashns/housing-linear-minimal\n",
    "- Logistic regression (minimal): https://jovian.ai/aakashns/mnist-logistic-minimal\n",
    "\n",
    "Here are some sources to find good datasets:\n",
    "\n",
    "- https://lionbridge.ai/datasets/10-open-datasets-for-linear-regression/\n",
    "- https://www.kaggle.com/rtatman/datasets-for-regression-analysis\n",
    "- https://archive.ics.uci.edu/ml/datasets.php?format=&task=reg&att=&area=&numAtt=&numIns=&type=&sort=nameUp&view=table\n",
    "- https://people.sc.fsu.edu/~jburkardt/datasets/regression/regression.html\n",
    "- https://archive.ics.uci.edu/ml/datasets/wine+quality\n",
    "- https://pytorch.org/docs/stable/torchvision/datasets.html\n",
    "\n",
    "We also recommend that you write a blog about your approach to the problem. Here is a suggested structure for your post (feel free to experiment with it):\n",
    "\n",
    "- Interesting title & subtitle\n",
    "- Overview of what the blog covers (which dataset, linear regression or logistic regression, intro to PyTorch)\n",
    "- Downloading & exploring the data\n",
    "- Preparing the data for training\n",
    "- Creating a model using PyTorch\n",
    "- Training the model to fit the data\n",
    "- Your thoughts on how to experiment with different hyperparmeters to reduce loss\n",
    "- Making predictions using the model\n",
    "\n",
    "As with the previous assignment, you can [embed Juptyer notebook cells & outputs from Jovian](https://medium.com/jovianml/share-and-embed-jupyter-notebooks-online-with-jovian-ml-df709a03064e) into your blog. \n",
    "\n",
    "Don't forget to share your work on the forum: https://jovian.ai/forum/t/linear-regression-and-logistic-regression-notebooks-and-blog-posts/14039"
   ]
  },
  {
   "cell_type": "code",
   "execution_count": 6,
   "metadata": {
    "id": "O2_HYJLC2eFo",
    "outputId": "47d9d34b-ed1f-4834-b099-eed00b2ac26a"
   },
   "outputs": [
    {
     "data": {
      "application/javascript": [
       "window.require && require([\"base/js/namespace\"],function(Jupyter){Jupyter.notebook.save_checkpoint()})"
      ],
      "text/plain": [
       "<IPython.core.display.Javascript object>"
      ]
     },
     "metadata": {},
     "output_type": "display_data"
    },
    {
     "name": "stdout",
     "output_type": "stream",
     "text": [
      "[jovian] Creating a new project \"mirnazali2015/02-insurance-linear-regression-fin\"\u001b[0m\n",
      "[jovian] Committed successfully! https://jovian.com/mirnazali2015/02-insurance-linear-regression-fin\u001b[0m\n"
     ]
    },
    {
     "data": {
      "application/javascript": [
       "window.require && require([\"base/js/namespace\"],function(Jupyter){Jupyter.notebook.save_checkpoint()})"
      ],
      "text/plain": [
       "<IPython.core.display.Javascript object>"
      ]
     },
     "metadata": {},
     "output_type": "display_data"
    },
    {
     "name": "stdout",
     "output_type": "stream",
     "text": [
      "[jovian] Updating notebook \"mirnazali2015/02-insurance-linear-regression-fin\" on https://jovian.com\u001b[0m\n",
      "[jovian] Committed successfully! https://jovian.com/mirnazali2015/02-insurance-linear-regression-fin\u001b[0m\n"
     ]
    },
    {
     "data": {
      "text/plain": [
       "'https://jovian.com/mirnazali2015/02-insurance-linear-regression-fin'"
      ]
     },
     "execution_count": 6,
     "metadata": {},
     "output_type": "execute_result"
    }
   ],
   "source": [
    "jovian.commit(project=project_name, environment=None)\n",
    "jovian.commit(project=project_name, environment=None) # try again, kaggle fails sometimes"
   ]
  },
  {
   "cell_type": "code",
   "execution_count": 7,
   "metadata": {
    "id": "xsvAssX_2eFp"
   },
   "outputs": [
    {
     "name": "stdout",
     "output_type": "stream",
     "text": [
      "Downloading https://gist.githubusercontent.com/netj/8836201/raw/6f9306ad21398ea43cba4f7d537619d0e07d5ae3/iris.csv to ./iris.csv\n"
     ]
    },
    {
     "data": {
      "application/vnd.jupyter.widget-view+json": {
       "model_id": "c0b2dbe13aca42c885c53575ae50cf28",
       "version_major": 2,
       "version_minor": 0
      },
      "text/plain": [
       "  0%|          | 0/3975 [00:00<?, ?it/s]"
      ]
     },
     "metadata": {},
     "output_type": "display_data"
    },
    {
     "data": {
      "text/html": [
       "<div>\n",
       "<style scoped>\n",
       "    .dataframe tbody tr th:only-of-type {\n",
       "        vertical-align: middle;\n",
       "    }\n",
       "\n",
       "    .dataframe tbody tr th {\n",
       "        vertical-align: top;\n",
       "    }\n",
       "\n",
       "    .dataframe thead th {\n",
       "        text-align: right;\n",
       "    }\n",
       "</style>\n",
       "<table border=\"1\" class=\"dataframe\">\n",
       "  <thead>\n",
       "    <tr style=\"text-align: right;\">\n",
       "      <th></th>\n",
       "      <th>sepal.length</th>\n",
       "      <th>sepal.width</th>\n",
       "      <th>petal.length</th>\n",
       "      <th>petal.width</th>\n",
       "      <th>variety</th>\n",
       "    </tr>\n",
       "  </thead>\n",
       "  <tbody>\n",
       "    <tr>\n",
       "      <th>0</th>\n",
       "      <td>5.1</td>\n",
       "      <td>3.5</td>\n",
       "      <td>1.4</td>\n",
       "      <td>0.2</td>\n",
       "      <td>Setosa</td>\n",
       "    </tr>\n",
       "    <tr>\n",
       "      <th>1</th>\n",
       "      <td>4.9</td>\n",
       "      <td>3.0</td>\n",
       "      <td>1.4</td>\n",
       "      <td>0.2</td>\n",
       "      <td>Setosa</td>\n",
       "    </tr>\n",
       "    <tr>\n",
       "      <th>2</th>\n",
       "      <td>4.7</td>\n",
       "      <td>3.2</td>\n",
       "      <td>1.3</td>\n",
       "      <td>0.2</td>\n",
       "      <td>Setosa</td>\n",
       "    </tr>\n",
       "    <tr>\n",
       "      <th>3</th>\n",
       "      <td>4.6</td>\n",
       "      <td>3.1</td>\n",
       "      <td>1.5</td>\n",
       "      <td>0.2</td>\n",
       "      <td>Setosa</td>\n",
       "    </tr>\n",
       "    <tr>\n",
       "      <th>4</th>\n",
       "      <td>5.0</td>\n",
       "      <td>3.6</td>\n",
       "      <td>1.4</td>\n",
       "      <td>0.2</td>\n",
       "      <td>Setosa</td>\n",
       "    </tr>\n",
       "  </tbody>\n",
       "</table>\n",
       "</div>"
      ],
      "text/plain": [
       "   sepal.length  sepal.width  petal.length  petal.width variety\n",
       "0           5.1          3.5           1.4          0.2  Setosa\n",
       "1           4.9          3.0           1.4          0.2  Setosa\n",
       "2           4.7          3.2           1.3          0.2  Setosa\n",
       "3           4.6          3.1           1.5          0.2  Setosa\n",
       "4           5.0          3.6           1.4          0.2  Setosa"
      ]
     },
     "execution_count": 7,
     "metadata": {},
     "output_type": "execute_result"
    }
   ],
   "source": [
    "DATASET_URL = \"https://gist.githubusercontent.com/netj/8836201/raw/6f9306ad21398ea43cba4f7d537619d0e07d5ae3/iris.csv\"\n",
    "DATA_FILENAME = \"iris.csv\"\n",
    "download_url(DATASET_URL, '.')\n",
    "df = pd.read_csv(DATA_FILENAME)\n",
    "df.head()"
   ]
  },
  {
   "cell_type": "code",
   "execution_count": 8,
   "metadata": {},
   "outputs": [
    {
     "name": "stdout",
     "output_type": "stream",
     "text": [
      "torch.float32 torch.int64\n"
     ]
    }
   ],
   "source": [
    "input_cols = [titles for titles in df.loc[:, df.columns != 'variety']]\n",
    "inputs_array = df[input_cols].to_numpy()\n",
    "for col in ['variety']:\n",
    "  df[col] = df[col].astype('category').cat.codes\n",
    "targets_array = df['variety'].to_numpy()\n",
    "inputs = torch.Tensor(inputs_array)\n",
    "targets = torch.Tensor(targets_array).type(torch.LongTensor)\n",
    "print(inputs.dtype,targets.dtype)"
   ]
  },
  {
   "cell_type": "code",
   "execution_count": 9,
   "metadata": {},
   "outputs": [],
   "source": [
    "dataset = TensorDataset(inputs, targets)\n",
    "num_rows = len(df)\n",
    "val_percent = 0.1\n",
    "val_size = int(num_rows * val_percent)\n",
    "train_size = num_rows - 2 * val_size\n",
    "\n",
    "train_ds, val_ds, test = random_split(dataset,[train_size,val_size,val_size])"
   ]
  },
  {
   "cell_type": "code",
   "execution_count": 10,
   "metadata": {},
   "outputs": [],
   "source": [
    "batch_size = 8\n",
    "train_loader = DataLoader(train_ds, batch_size, shuffle=True)\n",
    "val_loader = DataLoader(val_ds, batch_size)\n",
    "test_loader = DataLoader(test)"
   ]
  },
  {
   "cell_type": "code",
   "execution_count": 11,
   "metadata": {},
   "outputs": [
    {
     "data": {
      "text/plain": [
       "[Parameter containing:\n",
       " tensor([[-0.4000,  0.2589, -0.0277,  0.4973],\n",
       "         [ 0.0347, -0.2983, -0.3816,  0.4711],\n",
       "         [-0.3552,  0.1269, -0.0055, -0.4795]], requires_grad=True),\n",
       " Parameter containing:\n",
       " tensor([-0.3695, -0.3319,  0.2635], requires_grad=True)]"
      ]
     },
     "execution_count": 11,
     "metadata": {},
     "output_type": "execute_result"
    }
   ],
   "source": [
    "class IrisModel(nn.Module):\n",
    "    def __init__(self):\n",
    "        super().__init__()\n",
    "        self.linear = nn.Linear(4, 3)\n",
    "        \n",
    "    def forward(self, xb):\n",
    "        out = self.linear(xb)\n",
    "        return out\n",
    "    \n",
    "    def training_step(self, batch):\n",
    "        input, labels = batch \n",
    "        out = self(input)                  # Generate predictions\n",
    "        loss = F.cross_entropy(out, labels) # Calculate loss\n",
    "        return loss\n",
    "    \n",
    "    def validation_step(self, batch):\n",
    "        input, labels = batch \n",
    "        out = self(input)                    # Generate predictions\n",
    "        loss = F.cross_entropy(out, labels)   # Calculate loss\n",
    "        acc = accuracy(out, labels)           # Calculate accuracy\n",
    "        return {'val_loss': loss.detach(), 'val_acc': acc.detach()}\n",
    "\n",
    "    def validation_epoch_end(self, outputs):\n",
    "        batch_losses = [x['val_loss'] for x in outputs]\n",
    "        epoch_loss = torch.stack(batch_losses).mean()   # Combine losses\n",
    "        batch_accs = [x['val_acc'] for x in outputs]\n",
    "        epoch_acc = torch.stack(batch_accs).mean()      # Combine accuracies\n",
    "        return {'val_loss': epoch_loss.item(), 'val_acc': epoch_acc.item()}\n",
    "    \n",
    "    def epoch_end(self, epoch, result, num_epochs):\n",
    "      if (epoch+1) % 10 == 1 or epoch == num_epochs-1:\n",
    "        print(\"Epoch [{}], val_loss: {:.4f}, val_acc: {:.4f}\".format(epoch, result['val_loss'], result['val_acc']))\n",
    "    \n",
    "model = IrisModel()\n",
    "list(model.parameters())"
   ]
  },
  {
   "cell_type": "code",
   "execution_count": 12,
   "metadata": {},
   "outputs": [],
   "source": [
    "def accuracy(outputs, labels):\n",
    "    _, preds = torch.max(outputs, dim=1)\n",
    "    return torch.tensor(torch.sum(preds == labels).item() / len(preds))"
   ]
  },
  {
   "cell_type": "code",
   "execution_count": 13,
   "metadata": {},
   "outputs": [],
   "source": [
    "def evaluate(model, val_loader):\n",
    "    outputs = [model.validation_step(batch) for batch in val_loader]\n",
    "    return model.validation_epoch_end(outputs)\n",
    "\n",
    "def fit(epochs, lr, model, train_loader, val_loader, opt_func=torch.optim.SGD):\n",
    "    history = []\n",
    "    optimizer = opt_func(model.parameters(), lr)\n",
    "    for epoch in range(epochs):\n",
    "        # Training Phase \n",
    "        for batch in train_loader:\n",
    "            loss = model.training_step(batch)\n",
    "            loss.backward()\n",
    "            optimizer.step()\n",
    "            optimizer.zero_grad()\n",
    "        # Validation phase\n",
    "        result = evaluate(model, val_loader)\n",
    "        model.epoch_end(epoch, result, epochs)\n",
    "        history.append(result)\n",
    "    return history"
   ]
  },
  {
   "cell_type": "code",
   "execution_count": 14,
   "metadata": {},
   "outputs": [
    {
     "name": "stdout",
     "output_type": "stream",
     "text": [
      "{'val_loss': 1.5040132999420166, 'val_acc': 0.0}\n"
     ]
    }
   ],
   "source": [
    "result = evaluate(model, val_loader) # Use the evaluate function\n",
    "print(result)"
   ]
  },
  {
   "cell_type": "code",
   "execution_count": 15,
   "metadata": {},
   "outputs": [
    {
     "name": "stdout",
     "output_type": "stream",
     "text": [
      "Epoch [0], val_loss: 1.3747, val_acc: 0.0625\n",
      "Epoch [10], val_loss: 1.0479, val_acc: 0.2679\n",
      "Epoch [20], val_loss: 0.8748, val_acc: 0.5982\n",
      "Epoch [30], val_loss: 0.7604, val_acc: 0.6607\n",
      "Epoch [40], val_loss: 0.6849, val_acc: 0.7321\n",
      "Epoch [50], val_loss: 0.6359, val_acc: 0.8661\n",
      "Epoch [60], val_loss: 0.5839, val_acc: 0.8750\n",
      "Epoch [70], val_loss: 0.5643, val_acc: 0.9375\n",
      "Epoch [80], val_loss: 0.5332, val_acc: 0.9375\n",
      "Epoch [90], val_loss: 0.5162, val_acc: 0.9375\n",
      "Epoch [100], val_loss: 0.4972, val_acc: 1.0000\n",
      "Epoch [110], val_loss: 0.4865, val_acc: 1.0000\n",
      "Epoch [120], val_loss: 0.4711, val_acc: 1.0000\n",
      "Epoch [130], val_loss: 0.4577, val_acc: 1.0000\n",
      "Epoch [140], val_loss: 0.4483, val_acc: 1.0000\n",
      "Epoch [150], val_loss: 0.4332, val_acc: 1.0000\n",
      "Epoch [160], val_loss: 0.4363, val_acc: 1.0000\n",
      "Epoch [170], val_loss: 0.4215, val_acc: 1.0000\n",
      "Epoch [180], val_loss: 0.4104, val_acc: 1.0000\n",
      "Epoch [190], val_loss: 0.4019, val_acc: 1.0000\n",
      "Epoch [200], val_loss: 0.3962, val_acc: 1.0000\n",
      "Epoch [209], val_loss: 0.3889, val_acc: 1.0000\n"
     ]
    }
   ],
   "source": [
    "epochs = 210\n",
    "lr = 0.002\n",
    "history1 = fit(epochs, lr, model, train_loader, val_loader)"
   ]
  },
  {
   "cell_type": "code",
   "execution_count": 16,
   "metadata": {},
   "outputs": [],
   "source": [
    "testset = [batch for batch in test_loader]\n",
    "pred1 = [testset[num][0] for num in range(len(testset))]\n",
    "label1 = [testset[num][1] for num in range(len(testset))]"
   ]
  },
  {
   "cell_type": "code",
   "execution_count": 17,
   "metadata": {},
   "outputs": [],
   "source": [
    "def predict_please(X, model):\n",
    "    xb = X.unsqueeze(0)\n",
    "    yb = model(xb)\n",
    "    _, preds  = torch.max(yb[0], dim=1)\n",
    "    return preds[0].item()"
   ]
  },
  {
   "cell_type": "code",
   "execution_count": 18,
   "metadata": {},
   "outputs": [
    {
     "name": "stdout",
     "output_type": "stream",
     "text": [
      "Label: tensor([1]) , Predicted: 1\n",
      "Label: tensor([0]) , Predicted: 0\n",
      "Label: tensor([2]) , Predicted: 2\n"
     ]
    }
   ],
   "source": [
    "print('Label:', label1[0], ', Predicted:', predict_please(pred1[0], model))\n",
    "print('Label:', label1[1], ', Predicted:', predict_please(pred1[1], model))\n",
    "print('Label:', label1[2], ', Predicted:', predict_please(pred1[2], model))"
   ]
  },
  {
   "cell_type": "code",
   "execution_count": 19,
   "metadata": {},
   "outputs": [
    {
     "name": "stdout",
     "output_type": "stream",
     "text": [
      "Label: tensor([2]) , Predicted: 2\n",
      "Label: tensor([0]) , Predicted: 0\n",
      "Label: tensor([2]) , Predicted: 2\n"
     ]
    }
   ],
   "source": [
    "print('Label:', label1[3], ', Predicted:', predict_please(pred1[3], model))\n",
    "print('Label:', label1[4], ', Predicted:', predict_please(pred1[4], model))\n",
    "print('Label:', label1[5], ', Predicted:', predict_please(pred1[5], model))"
   ]
  },
  {
   "cell_type": "code",
   "execution_count": null,
   "metadata": {},
   "outputs": [
    {
     "data": {
      "application/javascript": [
       "window.require && require([\"base/js/namespace\"],function(Jupyter){Jupyter.notebook.save_checkpoint()})"
      ],
      "text/plain": [
       "<IPython.core.display.Javascript object>"
      ]
     },
     "metadata": {},
     "output_type": "display_data"
    }
   ],
   "source": [
    "jovian.commit(project=project_name, environment=None)"
   ]
  },
  {
   "cell_type": "code",
   "execution_count": null,
   "metadata": {},
   "outputs": [],
   "source": []
  }
 ],
 "metadata": {
  "colab": {
   "provenance": []
  },
  "language_info": {
   "codemirror_mode": {
    "name": "ipython",
    "version": 3
   },
   "file_extension": ".py",
   "mimetype": "text/x-python",
   "name": "python",
   "nbconvert_exporter": "python",
   "pygments_lexer": "ipython3",
   "version": "3.9.7"
  }
 },
 "nbformat": 4,
 "nbformat_minor": 1
}